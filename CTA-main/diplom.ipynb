{
  "cells": [
    {
      "cell_type": "code",
      "execution_count": null,
      "metadata": {
        "id": "rG_Cf8Gpjd36"
      },
      "outputs": [],
      "source": [
        "!add-apt-repository -y ppa:alex-p/tesseract-ocr-devel\n",
        "!apt install -y tesseract-ocr\n",
        "!apt install tesseract-ocr-fra\n",
        "!apt install tesseract-ocr-rus\n",
        "!apt install tesseract-ocr-jpn-vert\n",
        "!pip install deep-translator"
      ]
    },
    {
      "cell_type": "code",
      "execution_count": null,
      "metadata": {
        "id": "Ctva_CJOjXNG"
      },
      "outputs": [],
      "source": [
        "from google.colab import files\n",
        "from deep_translator import GoogleTranslator\n",
        "import cv2\n",
        "from PIL import Image, ImageDraw, ImageFont\n",
        "from google.colab.patches import cv2_imshow\n",
        "from PIL import ImageOps,ImageFilter\n",
        "import numpy as np\n",
        "import re\n",
        "import sys\n",
        "import io\n",
        "\n",
        "\n",
        "for uploaded_file in files.upload().values():\n",
        "    img = cv2.imdecode(np.frombuffer(uploaded_file, np.uint8), cv2.IMREAD_COLOR)\n",
        "    image = Image.fromarray(img)\n",
        "    gray_image = ImageOps.grayscale(image)\n",
        "    font = ImageFont.truetype(\"/content/animeacev02italicbold.ttf\", 10)\n",
        "    threshold_value = 100\n",
        "    binarized_image = gray_image.point(lambda pixel: 0 if pixel < threshold_value else 255, mode=\"L\")\n",
        "    filtered_array = np.array(binarized_image)\n",
        "    cv2.imwrite('temp.jpg', filtered_array)\n",
        "    img1 = cv2.imread('temp.jpg')\n",
        "    pattern = r\"[!@#$%^&*()\\-_=+{}\\[\\]|\\\\:;\\\"'<>?,./—]\"\n",
        "    !tesseract \"temp.jpg\" output -l eng  --psm 11  tsv \n",
        "    pil_img = Image.fromarray(img)\n",
        "    draw = ImageDraw.Draw(pil_img)\n",
        "    with open('output.tsv', 'r') as f:\n",
        "        lines = f.readlines()[1:]\n",
        "        for line in lines:\n",
        "            try:\n",
        "                level, page_num, block_num, par_num, line_num, word_num, left, top, width, height, conf, text = line.strip().split('\\t')\n",
        "                left, top, width, height = int(left), int(top), int(width), int(height)\n",
        "                bottom_right = (left + width, top + height)\n",
        "                \n",
        "                if float(conf) > 55  and not re.search(pattern, text)  :\n",
        "                   \n",
        "                    if not any(char.isdigit() for char in text):\n",
        "                        translated = GoogleTranslator(source='auto', target='ru').translate(text)\n",
        "                    draw.rectangle((left, top, left + width, top + height), outline=(0, 255, 0), width=2)\n",
        "                    polygon_points = [(left, top), (left + width, top), (left + width, top + height), (left, top + height)]\n",
        "                    draw.polygon(polygon_points, fill=(255, 255, 255))\n",
        "                    if translated is not None :\n",
        "                      \n",
        "                        draw.text((left, top), translated,font=font, fill=(255, 0, 0))\n",
        "            except ValueError:\n",
        "                continue\n",
        "    img1 = np.array(pil_img)\n",
        "    cv2_imshow( img1)\n",
        "    cv2.waitKey(0)\n",
        "    cv2.destroyAllWindows()"
      ]
    }
  ],
  "metadata": {
    "colab": {
      "provenance": []
    },
    "kernelspec": {
      "display_name": "Python 3",
      "name": "python3"
    },
    "language_info": {
      "name": "python"
    }
  },
  "nbformat": 4,
  "nbformat_minor": 0
}
